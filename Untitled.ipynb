{
 "cells": [
  {
   "cell_type": "code",
   "execution_count": 1,
   "id": "810f00b1",
   "metadata": {},
   "outputs": [
    {
     "name": "stderr",
     "output_type": "stream",
     "text": [
      "c:\\users\\drjjm\\appdata\\local\\programs\\python\\python38\\lib\\site-packages\\tqdm\\auto.py:22: TqdmWarning: IProgress not found. Please update jupyter and ipywidgets. See https://ipywidgets.readthedocs.io/en/stable/user_install.html\n",
      "  from .autonotebook import tqdm as notebook_tqdm\n"
     ]
    }
   ],
   "source": [
    "import torch as t\n",
    "from torch import tensor as T\n",
    "from numpy import unravel_index as unravel\n",
    "import matplotlib.pyplot as plt\n",
    "from MiniSnakes import do"
   ]
  },
  {
   "cell_type": "code",
   "execution_count": 265,
   "id": "bc2f688d",
   "metadata": {},
   "outputs": [],
   "source": [
    "snake = t.zeros((24, 24), dtype=t.int)"
   ]
  },
  {
   "cell_type": "code",
   "execution_count": 266,
   "id": "ce58045d",
   "metadata": {},
   "outputs": [
    {
     "data": {
      "text/plain": [
       "<matplotlib.image.AxesImage at 0x144b4bc3610>"
      ]
     },
     "execution_count": 266,
     "metadata": {},
     "output_type": "execute_result"
    },
    {
     "data": {
      "image/png": "[encoded data removed]",
      "text/plain": [
       "<Figure size 432x288 with 1 Axes>"
      ]
     },
     "metadata": {
      "needs_background": "light"
     },
     "output_type": "display_data"
    }
   ],
   "source": [
    "snake[0, :3] = T([1, 2, -1])\n",
    "plt.imshow(snake)"
   ]
  },
  {
   "cell_type": "code",
   "execution_count": 261,
   "id": "a092e256",
   "metadata": {},
   "outputs": [
    {
     "name": "stdout",
     "output_type": "stream",
     "text": [
      "tensor(False) tensor(True)\n",
      "None\n"
     ]
    },
    {
     "data": {
      "text/plain": [
       "<matplotlib.image.AxesImage at 0x144b4b66550>"
      ]
     },
     "execution_count": 261,
     "metadata": {},
     "output_type": "execute_result"
    },
    {
     "data": {
      "image/png": "[encoded data removed]",
      "text/plain": [
       "<Figure size 432x288 with 1 Axes>"
      ]
     },
     "metadata": {
      "needs_background": "light"
     },
     "output_type": "display_data"
    }
   ],
   "source": [
    "score = do2(snake, 1)\n",
    "print(score)\n",
    "plt.imshow(snake)"
   ]
  },
  {
   "cell_type": "code",
   "execution_count": 219,
   "id": "95d307ed",
   "metadata": {},
   "outputs": [
    {
     "data": {
      "text/plain": [
       "tensor([False,  True])"
      ]
     },
     "execution_count": 219,
     "metadata": {},
     "output_type": "execute_result"
    }
   ],
   "source": [
    "T([32, -1]) < 31"
   ]
  },
  {
   "cell_type": "code",
   "execution_count": 194,
   "id": "f17da948",
   "metadata": {},
   "outputs": [],
   "source": [
    "positions = snake.flatten().topk(2)[1]"
   ]
  },
  {
   "cell_type": "code",
   "execution_count": 195,
   "id": "ec53bfba",
   "metadata": {},
   "outputs": [
    {
     "data": {
      "text/plain": [
       "tensor([31,  2])"
      ]
     },
     "execution_count": 195,
     "metadata": {},
     "output_type": "execute_result"
    }
   ],
   "source": [
    "pos_cur"
   ]
  },
  {
   "cell_type": "code",
   "execution_count": 196,
   "id": "986e8e9d",
   "metadata": {},
   "outputs": [],
   "source": [
    "[pos_cur, pos_prev] = [T(unravel(x, snake.shape)) for x in positions]"
   ]
  },
  {
   "cell_type": "code",
   "execution_count": 197,
   "id": "93187404",
   "metadata": {},
   "outputs": [
    {
     "data": {
      "text/plain": [
       "[tensor([31,  2]), tensor([31,  1])]"
      ]
     },
     "execution_count": 197,
     "metadata": {},
     "output_type": "execute_result"
    }
   ],
   "source": [
    "[T(unravel(x, snake.shape)) for x in positions]"
   ]
  },
  {
   "cell_type": "code",
   "execution_count": 198,
   "id": "8cc3932d",
   "metadata": {},
   "outputs": [
    {
     "data": {
      "text/plain": [
       "[tensor([0, 1])]"
      ]
     },
     "execution_count": 198,
     "metadata": {},
     "output_type": "execute_result"
    }
   ],
   "source": [
    "[pos_cur - pos_prev]"
   ]
  },
  {
   "cell_type": "code",
   "execution_count": 199,
   "id": "8df45161",
   "metadata": {},
   "outputs": [
    {
     "data": {
      "text/plain": [
       "tensor([[ 0, -1],\n",
       "        [ 1,  0]])"
      ]
     },
     "execution_count": 199,
     "metadata": {},
     "output_type": "execute_result"
    }
   ],
   "source": [
    "T([[0, -1], [1, 0]]).matrix_power(3 +2)"
   ]
  },
  {
   "cell_type": "code",
   "execution_count": 200,
   "id": "1cba4cc0",
   "metadata": {},
   "outputs": [],
   "source": [
    "rotation = T([[0, -1], [1, 0]]).matrix_power(3 + 2)"
   ]
  },
  {
   "cell_type": "code",
   "execution_count": 201,
   "id": "de72447b",
   "metadata": {},
   "outputs": [
    {
     "data": {
      "text/plain": [
       "tensor([[ 0, -1],\n",
       "        [ 1,  0]])"
      ]
     },
     "execution_count": 201,
     "metadata": {},
     "output_type": "execute_result"
    }
   ],
   "source": [
    "rotation"
   ]
  },
  {
   "cell_type": "code",
   "execution_count": 202,
   "id": "e4f1976e",
   "metadata": {},
   "outputs": [
    {
     "data": {
      "text/plain": [
       "tensor([32,  2])"
      ]
     },
     "execution_count": 202,
     "metadata": {},
     "output_type": "execute_result"
    }
   ],
   "source": [
    "pos_cur + (pos_cur - pos_prev) @ rotation"
   ]
  },
  {
   "cell_type": "code",
   "execution_count": 203,
   "id": "98cf9c3a",
   "metadata": {},
   "outputs": [
    {
     "data": {
      "text/plain": [
       "[tensor([31,  2]), tensor([31,  1])]"
      ]
     },
     "execution_count": 203,
     "metadata": {},
     "output_type": "execute_result"
    }
   ],
   "source": [
    "[pos_cur, pos_prev] "
   ]
  },
  {
   "cell_type": "code",
   "execution_count": 209,
   "id": "df870a6f",
   "metadata": {},
   "outputs": [
    {
     "data": {
      "text/plain": [
       "tensor([32,  2])"
      ]
     },
     "execution_count": 209,
     "metadata": {},
     "output_type": "execute_result"
    }
   ],
   "source": [
    "(pos_cur + (pos_cur - pos_prev) @ rotation) #% T(snake.shape)"
   ]
  },
  {
   "cell_type": "code",
   "execution_count": 205,
   "id": "2cdf5c50",
   "metadata": {},
   "outputs": [],
   "source": [
    "pos_next = (pos_cur + (pos_cur - pos_prev) @ rotation) % T(snake.shape)"
   ]
  },
  {
   "cell_type": "code",
   "execution_count": 206,
   "id": "00750739",
   "metadata": {},
   "outputs": [
    {
     "data": {
      "text/plain": [
       "(tensor(0), tensor(2))"
      ]
     },
     "execution_count": 206,
     "metadata": {},
     "output_type": "execute_result"
    }
   ],
   "source": [
    "tuple(pos_next)"
   ]
  },
  {
   "cell_type": "code",
   "execution_count": 122,
   "id": "e2d396cd",
   "metadata": {},
   "outputs": [
    {
     "name": "stdout",
     "output_type": "stream",
     "text": [
      "2\n"
     ]
    }
   ],
   "source": [
    "if (snake[tuple(pos_next)] > 0):\n",
    "    print(1)\n",
    "else:\n",
    "    print(2)"
   ]
  },
  {
   "cell_type": "code",
   "execution_count": 263,
   "id": "db5bdc35",
   "metadata": {},
   "outputs": [
    {
     "data": {
      "text/plain": [
       "32"
      ]
     },
     "execution_count": 263,
     "metadata": {},
     "output_type": "execute_result"
    }
   ],
   "source": []
  },
  {
   "cell_type": "code",
   "execution_count": 220,
   "id": "1201ea5d",
   "metadata": {},
   "outputs": [],
   "source": [
    "def update(snake, action):\n",
    "    positions = snake.flatten().topk(2)[1]\n",
    "    [pos_cur, pos_prev] = [T(unravel(x, snake.shape)) for x in positions]\n",
    "    rotation = T([[0, -1], [1, 0]]).matrix_power(3 + action)\n",
    "    pos_next = (pos_cur + (pos_cur - pos_prev) @ rotation)\n",
    "    if (pos_next > 23).any() or (pos_next<0).any():\n",
    "        return -1\n",
    "    if (snake[tuple(pos_next)] > 0).any():\n",
    "        return -1\n",
    "    if snake[tuple(pos_next)] == -1:\n",
    "        reward = 1\n",
    "        pos_food = (snake == 0).flatten().to(t.float).multinomial(1)[0]\n",
    "        snake[unravel(pos_food, snake.shape)] = -1\n",
    "    else:\n",
    "        reward = 0\n",
    "        snake[snake > 0] -= 1\n",
    "    snake[tuple(pos_next)] = snake[tuple(pos_cur)] + 1\n",
    "    \n",
    "    return reward, snake"
   ]
  },
  {
   "cell_type": "code",
   "execution_count": 1,
   "id": "94e099d9",
   "metadata": {},
   "outputs": [
    {
     "name": "stderr",
     "output_type": "stream",
     "text": [
      "c:\\users\\drjjm\\appdata\\local\\programs\\python\\python38\\lib\\site-packages\\tqdm\\auto.py:22: TqdmWarning: IProgress not found. Please update jupyter and ipywidgets. See https://ipywidgets.readthedocs.io/en/stable/user_install.html\n",
      "  from .autonotebook import tqdm as notebook_tqdm\n"
     ]
    }
   ],
   "source": [
    "import environment\n",
    "import snake_agent"
   ]
  },
  {
   "cell_type": "code",
   "execution_count": 2,
   "id": "a5d30a8b",
   "metadata": {},
   "outputs": [],
   "source": [
    "from tensorflow.train import Checkpoint\n",
    "from tf_agents.environments.tf_py_environment import TFPyEnvironment"
   ]
  },
  {
   "cell_type": "code",
   "execution_count": 3,
   "id": "566a7c46",
   "metadata": {},
   "outputs": [],
   "source": [
    "env = environment.SnakeEnvironment()\n",
    "env = TFPyEnvironment(env)\n",
    "agent = snake_agent.snake_agent(env)"
   ]
  },
  {
   "cell_type": "code",
   "execution_count": 7,
   "id": "315ed745-073a-4997-b44a-790cbe8c2f51",
   "metadata": {},
   "outputs": [
    {
     "ename": "AttributeError",
     "evalue": "'DqnAgent' object has no attribute 'q_network'",
     "output_type": "error",
     "traceback": [
      "\u001b[1;31m---------------------------------------------------------------------------\u001b[0m",
      "\u001b[1;31mAttributeError\u001b[0m                            Traceback (most recent call last)",
      "\u001b[1;32m~\\AppData\\Local\\Temp/ipykernel_7576/2932817186.py\u001b[0m in \u001b[0;36m<module>\u001b[1;34m\u001b[0m\n\u001b[1;32m----> 1\u001b[1;33m \u001b[0magent\u001b[0m\u001b[1;33m.\u001b[0m\u001b[0mq_network\u001b[0m\u001b[1;33m\u001b[0m\u001b[1;33m\u001b[0m\u001b[0m\n\u001b[0m",
      "\u001b[1;31mAttributeError\u001b[0m: 'DqnAgent' object has no attribute 'q_network'"
     ]
    }
   ],
   "source": [
    "agent.q_network"
   ]
  },
  {
   "cell_type": "code",
   "execution_count": 5,
   "id": "ab422a55",
   "metadata": {},
   "outputs": [],
   "source": [
    "# env.reset()\n",
    "# timeStep = env.current_time_step()"
   ]
  },
  {
   "cell_type": "code",
   "execution_count": 6,
   "id": "0413e151",
   "metadata": {},
   "outputs": [],
   "source": [
    "#action = agent.policy.action(timeStep)"
   ]
  },
  {
   "cell_type": "code",
   "execution_count": null,
   "id": "3b85bf81",
   "metadata": {},
   "outputs": [],
   "source": []
  },
  {
   "cell_type": "code",
   "execution_count": 7,
   "id": "21998a1f",
   "metadata": {},
   "outputs": [],
   "source": [
    "from train import train_driver"
   ]
  },
  {
   "cell_type": "code",
   "execution_count": 8,
   "id": "5cc0e14c",
   "metadata": {},
   "outputs": [],
   "source": [
    "driver = train_driver(env, agent)"
   ]
  },
  {
   "cell_type": "code",
   "execution_count": 9,
   "id": "da1ba7fb",
   "metadata": {},
   "outputs": [
    {
     "name": "stdout",
     "output_type": "stream",
     "text": [
      "WARNING:tensorflow:From c:\\users\\drjjm\\appdata\\local\\programs\\python\\python38\\lib\\site-packages\\tensorflow\\python\\autograph\\impl\\api.py:377: ReplayBuffer.get_next (from tf_agents.replay_buffers.replay_buffer) is deprecated and will be removed in a future version.\n",
      "Instructions for updating:\n",
      "Use `as_dataset(..., single_deterministic_pass=False) instead.\n",
      "max steps (26) or repeated moves\n",
      "score = -1\n",
      "max steps (26) or repeated moves\n",
      "score = -1\n",
      "max steps (26) or repeated moves\n",
      "score = -1\n",
      "max steps (26) or repeated moves\n",
      "score = -1\n",
      "max steps (26) or repeated moves\n",
      "score = -1\n",
      "max steps (26) or repeated moves\n",
      "score = -1\n",
      "max steps (26) or repeated moves\n",
      "score = -1\n",
      "max steps (26) or repeated moves\n",
      "score = -1\n",
      "max steps (26) or repeated moves\n",
      "score = -1\n",
      "max steps (26) or repeated moves\n",
      "score = -1\n",
      "0\n",
      "max steps (26) or repeated moves\n",
      "score = -1\n",
      "max steps (27) or repeated moves\n",
      "score = -1\n",
      "episode length:  27\n",
      "WARNING:tensorflow:From c:\\users\\drjjm\\appdata\\local\\programs\\python\\python38\\lib\\site-packages\\tensorflow\\python\\util\\dispatch.py:1082: calling foldr_v2 (from tensorflow.python.ops.functional_ops) with back_prop=False is deprecated and will be removed in a future version.\n",
      "Instructions for updating:\n",
      "back_prop=False is deprecated. Consider using tf.stop_gradient instead.\n",
      "Instead of:\n",
      "results = tf.foldr(fn, elems, back_prop=False)\n",
      "Use:\n",
      "results = tf.nest.map_structure(tf.stop_gradient, tf.foldr(fn, elems))\n",
      "max steps (57) or repeated moves\n",
      "score = 0\n",
      "max steps (32) or repeated moves\n",
      "score = 0\n",
      "max steps (27) or repeated moves\n",
      "score = 0\n",
      "max steps (27) or repeated moves\n",
      "score = 0\n",
      "max steps (39) or repeated moves\n",
      "score = 0\n",
      "max steps (32) or repeated moves\n",
      "score = 0\n",
      "max steps (29) or repeated moves\n",
      "score = 0\n",
      "max steps (27) or repeated moves\n",
      "score = 0\n",
      "score = 1\n",
      "max steps (29) or repeated moves\n",
      "score = 0\n",
      "step = 1: Average Return = 0.0\n"
     ]
    },
    {
     "data": {
      "text/plain": [
       "([-1.0, 0.0], [<tf.Tensor: shape=(), dtype=float32, numpy=0.04019763>])"
      ]
     },
     "execution_count": 9,
     "metadata": {},
     "output_type": "execute_result"
    }
   ],
   "source": [
    "driver.run(1)"
   ]
  },
  {
   "cell_type": "code",
   "execution_count": null,
   "id": "a6235aec",
   "metadata": {},
   "outputs": [],
   "source": [
    "driver.save_c"
   ]
  }
 ],
 "metadata": {
  "kernelspec": {
   "display_name": "Python 3 (ipykernel)",
   "language": "python",
   "name": "python3"
  },
  "language_info": {
   "codemirror_mode": {
    "name": "ipython",
    "version": 3
   },
   "file_extension": ".py",
   "mimetype": "text/x-python",
   "name": "python",
   "nbconvert_exporter": "python",
   "pygments_lexer": "ipython3",
   "version": "3.8.0"
  }
 },
 "nbformat": 4,
 "nbformat_minor": 5
}
